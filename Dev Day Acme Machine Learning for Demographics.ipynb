{
    "metadata": {
        "language_info": {
            "codemirror_mode": "r", 
            "file_extension": ".r", 
            "version": "3.3.2", 
            "name": "R", 
            "pygments_lexer": "r", 
            "mimetype": "text/x-r-source"
        }, 
        "kernelspec": {
            "language": "R", 
            "display_name": "R with Spark 2.0", 
            "name": "r-spark20"
        }
    }, 
    "nbformat_minor": 0, 
    "cells": [
        {
            "metadata": {}, 
            "cell_type": "markdown", 
            "source": "# R: Explore Sales Data from Enterprise Systems through Machine Learning"
        }, 
        {
            "metadata": {}, 
            "cell_type": "markdown", 
            "source": "## R implementation for association rules mining (arules package)"
        }, 
        {
            "metadata": {}, 
            "cell_type": "markdown", 
            "source": "Initializing libraries"
        }, 
        {
            "execution_count": null, 
            "metadata": {
                "collapsed": false
            }, 
            "source": "# Installing Brunel\n\ntry(system(\"pip install brunel --upgrade --user\", intern = TRUE, ignore.stderr = TRUE))\n\n# Installing supporting R packages\n# Installing R packages for Brunel\n\ninstall.packages(\"devtools\")\n\ndevtools::install_github(\"Brunel-Visualization/Brunel\", subdir=\"R\", ref=\"master2.1\", force=TRUE)\n\n# Installing R packages for machine learning\n\ninstall.packages(\"arules\")\n\ninstall.packages(\"C50\")\n\n# a package supporting model transformations for visualization\n\ndevtools::install_github(\"ibmdataworks/datafirst\", subdir=\"datascientist/machinelearning/sigmoml\", force=TRUE)", 
            "cell_type": "code", 
            "outputs": []
        }, 
        {
            "execution_count": null, 
            "metadata": {
                "collapsed": false
            }, 
            "source": "library(arules)\nlibrary(plyr)\nlibrary(ibmdbR)", 
            "cell_type": "code", 
            "outputs": []
        }, 
        {
            "execution_count": null, 
            "metadata": {
                "collapsed": false
            }, 
            "source": "install.packages(\"devtools\")", 
            "cell_type": "code", 
            "outputs": []
        }, 
        {
            "metadata": {}, 
            "cell_type": "markdown", 
            "source": "Loading the data from the object storage"
        }, 
        {
            "metadata": {}, 
            "cell_type": "markdown", 
            "source": "Data wrangling with R: putting all the purchased items into a single transaction"
        }, 
        {
            "metadata": {}, 
            "cell_type": "markdown", 
            "source": "# Insert a new cell with your dashDB connection here"
        }, 
        {
            "execution_count": null, 
            "metadata": {
                "collapsed": false
            }, 
            "source": "# using subset of fields: the values in the result set are unique\nordersDF <- ddply(data.df.1,c('CUST_ORDER_NUMBER','PRODUCT_LINE'),summarize, unused=sum(1))\nordersDF <- subset(ordersDF , select = c('CUST_ORDER_NUMBER','PRODUCT_LINE'))\n# merging multiple lines related to the same order inta a single line\nordersDF <- aggregate( PRODUCT_LINE ~ CUST_ORDER_NUMBER, data = ordersDF, paste, collapse = \",\")\n# getting an list of items istead of a comma separated strings\nordersDF <- dlply(ordersDF, 1, function(items) (strsplit(items$PRODUCT_LINE, split=\",\")))\n\ntransactions <- unlist(ordersDF, recursive = FALSE, use.names = FALSE)\n# filtering the transaction with multiple purchased items\ntransactions <- transactions [lapply(transactions , length) > 1]\nprint('Sample of transactions ready for Apriori algorithm')\nhead(transactions)\n", 
            "cell_type": "code", 
            "outputs": []
        }, 
        {
            "metadata": {}, 
            "cell_type": "markdown", 
            "source": "Transforming data according to arules requirements and applying Apriori algorithm"
        }, 
        {
            "execution_count": null, 
            "metadata": {
                "collapsed": false
            }, 
            "source": "transactions <- as(transactions, \"transactions\")", 
            "cell_type": "code", 
            "outputs": []
        }, 
        {
            "execution_count": null, 
            "metadata": {
                "collapsed": false
            }, 
            "source": "library(arules)\n\nrulesMod <- apriori(transactions, parameter=list(support=0.05, conf=0.2, minlen=2))\nrulesMod <- sort(rulesMod, decreasing=T, by=\"lift\")\n\ninspect(rulesMod)", 
            "cell_type": "code", 
            "outputs": []
        }, 
        {
            "metadata": {}, 
            "cell_type": "markdown", 
            "source": "## Visualizing association rules"
        }, 
        {
            "metadata": {}, 
            "cell_type": "markdown", 
            "source": "Brunel-based visualization"
        }, 
        {
            "execution_count": null, 
            "metadata": {
                "collapsed": false
            }, 
            "source": "#Transforming the rules into a data frame\nrulesSet <- as(rulesMod, \"data.frame\") \n\nrulesSet$rules <- gsub(\"\\\\{|\\\\}\", \"\", rulesSet$rules)\nrulesSet <- transform(rulesSet, col=do.call(rbind, strsplit(as.character(rules), '=>', fixed=TRUE)), stringsAsFactors=FALSE)\n\nrulesSet <- rename(rulesSet, c(\"col.1\"=\"LHS\", \"col.2\"=\"RHS\"))", 
            "cell_type": "code", 
            "outputs": []
        }, 
        {
            "execution_count": null, 
            "metadata": {
                "collapsed": false
            }, 
            "source": "library(brunel)\n\nbrunel (\" data('rulesSet') chord x(LHS) y(RHS) color(confidence) size(support) tooltip(rules, support, confidence, lift)\",\n        width=600, height=400, online_js=TRUE)", 
            "cell_type": "code", 
            "outputs": []
        }, 
        {
            "metadata": {}, 
            "cell_type": "markdown", 
            "source": "## Decision tree-based classification with SparkR and C5.0 library"
        }, 
        {
            "metadata": {}, 
            "cell_type": "markdown", 
            "source": "Transforming the data for using in C5.0"
        }, 
        {
            "execution_count": null, 
            "metadata": {
                "collapsed": false
            }, 
            "source": "# Preparing the data for training and classification\n# Transforming the data frame into matrix\norderDetails <- data.df.1\norderDetails$COUNTRY = as.factor(orderDetails$COUNTRY)\norderDetails$GENDER = as.factor(orderDetails$GENDER)\norderDetails$MARITAL_STATUS = as.factor(orderDetails$MARITAL_STATUS)\norderDetails$PROFESSION = as.factor(orderDetails$PROFESSION)\norderDetails$PRODUCT_LINE = as.factor(orderDetails$PRODUCT_LINE)\n\nset.seed(1234)\n# training data set\ntrainingData <- orderDetails\n", 
            "cell_type": "code", 
            "outputs": []
        }, 
        {
            "metadata": {}, 
            "cell_type": "markdown", 
            "source": "Training the classification model: building model using C50 library"
        }, 
        {
            "execution_count": null, 
            "metadata": {
                "collapsed": false
            }, 
            "source": "library(C50)\nclassifierModel <- C5.0(PRODUCT_LINE ~ AGE + GENDER + PROFESSION + MARITAL_STATUS , data=orderDetails, rules=FALSE)\n\n#Detailed textual presentation:\n#summary(classifierModel)", 
            "cell_type": "code", 
            "outputs": []
        }, 
        {
            "metadata": {}, 
            "cell_type": "markdown", 
            "source": "### Visualizing the model"
        }, 
        {
            "metadata": {}, 
            "cell_type": "markdown", 
            "source": "Transforming the model for visualization:"
        }, 
        {
            "execution_count": null, 
            "metadata": {
                "collapsed": false
            }, 
            "source": "library(sigmoml)\nlibrary(partykit)\nlibrary(plyr)\n\nrulesDataFrame <- sigmoml::getRules(classifierModel)", 
            "cell_type": "code", 
            "outputs": []
        }, 
        {
            "metadata": {}, 
            "cell_type": "markdown", 
            "source": "Graph representation"
        }, 
        {
            "execution_count": null, 
            "metadata": {
                "collapsed": false
            }, 
            "source": "library(brunel)\n\nbrunel (\" data('rulesDataFrame') treemap x(Level1, Level2, Level3, Level4, Level5, Level6, Level7, Level8, Level9) color(Prediction) size(Samples) label(Name) filter(Prediction) tooltip(#all)\",\n        width=1000, height=500, online_js=TRUE)", 
            "cell_type": "code", 
            "outputs": []
        }, 
        {
            "execution_count": null, 
            "metadata": {
                "collapsed": false, 
                "scrolled": true
            }, 
            "source": "library(brunel)\nbrunel (\" data('rulesDataFrame') tree(prune:20) y(Level1, Level2, Level3, Level4, Level5, Level6, Level7, Level8, Level9) color(Prediction) label(Prediction) size(samples) tooltip(#all) legends(none)\",\n        width=1000, height=800, online_js=TRUE)", 
            "cell_type": "code", 
            "outputs": []
        }, 
        {
            "metadata": {}, 
            "cell_type": "markdown", 
            "source": "Native R visualization"
        }, 
        {
            "execution_count": null, 
            "metadata": {
                "collapsed": false
            }, 
            "source": "library(repr)\n\n# Change plot size to 136 x 8\noptions(repr.plot.width=136, repr.plot.height=8)\n\nplot(classifierModel, type=\"simple\",main=\"Decison Tree\", drop_terminal = TRUE)", 
            "cell_type": "code", 
            "outputs": []
        }
    ], 
    "nbformat": 4
}